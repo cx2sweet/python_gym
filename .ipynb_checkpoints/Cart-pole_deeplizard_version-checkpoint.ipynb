{
 "cells": [
  {
   "cell_type": "code",
   "execution_count": 1,
   "id": "34c01147",
   "metadata": {},
   "outputs": [],
   "source": [
    "%matplotlib inline\n",
    "import gym\n",
    "import math\n",
    "import random\n",
    "import numpy as np\n",
    "import matplotlib\n",
    "import matplotlib.pyplot as plt\n",
    "from collections import namedtuple\n",
    "from itertools import count\n",
    "from PIL import Image\n",
    "import torch\n",
    "import torch.nn as nn\n",
    "import torch.optim as optim\n",
    "import torch.nn.functional as F\n",
    "import torchvision.transforms as T  \n",
    "\n",
    "is_ipython = 'inline' in matplotlib.get_backend()\n",
    "if is_ipython: from IPython import display"
   ]
  },
  {
   "cell_type": "code",
   "execution_count": 2,
   "id": "53cf5802",
   "metadata": {},
   "outputs": [],
   "source": [
    "class DQN(nn.Module):\n",
    "    def __init__(self, img_height, img_width):\n",
    "        super().__init__()\n",
    "\n",
    "        self.fc1 = nn.Linear(in_features=img_height*img_width*3, out_features=24)   \n",
    "        self.fc2 = nn.Linear(in_features=24, out_features=32)\n",
    "        self.out = nn.Linear(in_features=32, out_features=2)"
   ]
  },
  {
   "cell_type": "code",
   "execution_count": 3,
   "id": "82577a1c",
   "metadata": {},
   "outputs": [],
   "source": [
    "def forward(self, t):\n",
    "    t = t.flatten(start_dim=1)\n",
    "    t = F.relu(self.fc1(t))\n",
    "    t = F.relu(self.fc2(t))\n",
    "    t = self.out(t)\n",
    "    return t"
   ]
  },
  {
   "cell_type": "code",
   "execution_count": 4,
   "id": "6e3356fb",
   "metadata": {},
   "outputs": [],
   "source": [
    "Experience = namedtuple(\n",
    "    'Experience',\n",
    "    ('state', 'action', 'next_state', 'reward')\n",
    ")"
   ]
  },
  {
   "cell_type": "code",
   "execution_count": null,
   "id": "8d6d5f6c",
   "metadata": {},
   "outputs": [],
   "source": [
    "class ReplayMemory():\n",
    "    def __init__(self, capacity):\n",
    "        self.capacity = capacity\n",
    "        self.memory = []\n",
    "        self.push_count = 0"
   ]
  },
  {
   "cell_type": "code",
   "execution_count": null,
   "id": "e07a40f6",
   "metadata": {},
   "outputs": [],
   "source": [
    "def push(self, experience):\n",
    "    if len(self.memory) < self.capacity:\n",
    "        self.memory.append(experience)\n",
    "    else:\n",
    "        self.memory[self.push_count % self.capacity] = experience\n",
    "    self.push_count += 1"
   ]
  },
  {
   "cell_type": "code",
   "execution_count": null,
   "id": "be38c835",
   "metadata": {},
   "outputs": [],
   "source": [
    "def sample(self, batch_size):\n",
    "    return random.sample(self.memory, batch_size)"
   ]
  },
  {
   "cell_type": "code",
   "execution_count": null,
   "id": "7e063496",
   "metadata": {},
   "outputs": [],
   "source": [
    "def can_provide_sample(self, batch_size):\n",
    "    return len(self.memory) >= batch_size"
   ]
  },
  {
   "cell_type": "code",
   "execution_count": null,
   "id": "7b6bf670",
   "metadata": {},
   "outputs": [],
   "source": [
    "class EpsilonGreedyStrategy():\n",
    "    def __init__(self, start, end, decay):\n",
    "        self.start = start\n",
    "        self.end = end\n",
    "        self.decay = decay"
   ]
  }
 ],
 "metadata": {
  "kernelspec": {
   "display_name": "Python 3",
   "language": "python",
   "name": "python3"
  },
  "language_info": {
   "codemirror_mode": {
    "name": "ipython",
    "version": 3
   },
   "file_extension": ".py",
   "mimetype": "text/x-python",
   "name": "python",
   "nbconvert_exporter": "python",
   "pygments_lexer": "ipython3",
   "version": "3.8.8"
  }
 },
 "nbformat": 4,
 "nbformat_minor": 5
}
