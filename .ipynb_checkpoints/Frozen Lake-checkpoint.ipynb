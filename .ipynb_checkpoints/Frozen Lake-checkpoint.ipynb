{
 "cells": [
  {
   "cell_type": "markdown",
   "id": "5b603c9a",
   "metadata": {},
   "source": [
    "https://github.com/openai/gym/wiki/FrozenLake-v0"
   ]
  },
  {
   "cell_type": "code",
   "execution_count": 1,
   "id": "afb980d3",
   "metadata": {},
   "outputs": [],
   "source": [
    "import gym\n",
    "import numpy as np\n",
    "import time\n",
    "import random\n",
    "from IPython.display import clear_output"
   ]
  },
  {
   "cell_type": "code",
   "execution_count": 2,
   "id": "861ddaeb",
   "metadata": {},
   "outputs": [
    {
     "data": {
      "text/plain": [
       "0"
      ]
     },
     "execution_count": 2,
     "metadata": {},
     "output_type": "execute_result"
    }
   ],
   "source": [
    "env=gym.make('FrozenLake-v0')\n",
    "env.reset()"
   ]
  },
  {
   "cell_type": "code",
   "execution_count": 3,
   "id": "dc4a9b7e",
   "metadata": {},
   "outputs": [
    {
     "name": "stdout",
     "output_type": "stream",
     "text": [
      "[[0. 0. 0. 0.]\n",
      " [0. 0. 0. 0.]\n",
      " [0. 0. 0. 0.]\n",
      " [0. 0. 0. 0.]\n",
      " [0. 0. 0. 0.]\n",
      " [0. 0. 0. 0.]\n",
      " [0. 0. 0. 0.]\n",
      " [0. 0. 0. 0.]\n",
      " [0. 0. 0. 0.]\n",
      " [0. 0. 0. 0.]\n",
      " [0. 0. 0. 0.]\n",
      " [0. 0. 0. 0.]\n",
      " [0. 0. 0. 0.]\n",
      " [0. 0. 0. 0.]\n",
      " [0. 0. 0. 0.]\n",
      " [0. 0. 0. 0.]]\n"
     ]
    }
   ],
   "source": [
    "action_space_size=env.action_space.n\n",
    "state_space_size=env.observation_space.n\n",
    "\n",
    "q_table=np.zeros((state_space_size,action_space_size))\n",
    "print(q_table)"
   ]
  },
  {
   "cell_type": "code",
   "execution_count": 10,
   "id": "ce7c24af",
   "metadata": {},
   "outputs": [],
   "source": [
    "num_episodes=10000\n",
    "max_steps_per_episode=100\n",
    "\n",
    "learning_rate=0.8\n",
    "discount_rate=0.95\n",
    "\n",
    "exploration_rate=1\n",
    "max_exploration_rate=1\n",
    "min_exploration_rate=.01\n",
    "exploration_decay_rate=.001 #or .001"
   ]
  },
  {
   "cell_type": "code",
   "execution_count": 11,
   "id": "54018ba1",
   "metadata": {},
   "outputs": [
    {
     "name": "stdout",
     "output_type": "stream",
     "text": [
      "Avg reward per 1000 episodes\n",
      "1000 : 0.03200000000000002\n",
      "2000 : 0.08700000000000006\n",
      "3000 : 0.16100000000000012\n",
      "4000 : 0.2950000000000002\n",
      "5000 : 0.3830000000000003\n",
      "6000 : 0.4910000000000004\n",
      "7000 : 0.46900000000000036\n",
      "8000 : 0.47400000000000037\n",
      "9000 : 0.4980000000000004\n",
      "10000 : 0.46100000000000035\n",
      "q-table\n",
      "[[2.73320637e-01 4.13300722e-02 4.50751374e-02 6.51525140e-02]\n",
      " [1.74928705e-02 1.70932982e-02 9.01888102e-03 5.63473771e-02]\n",
      " [6.47406511e-03 3.48646101e-03 4.33025426e-03 1.44413043e-02]\n",
      " [3.90438214e-04 1.33734517e-03 1.82008789e-03 1.58995824e-02]\n",
      " [4.39217180e-01 3.86438839e-02 2.81922482e-03 2.50535458e-04]\n",
      " [0.00000000e+00 0.00000000e+00 0.00000000e+00 0.00000000e+00]\n",
      " [3.36807097e-05 1.42485315e-05 1.21417968e-04 1.74725502e-08]\n",
      " [0.00000000e+00 0.00000000e+00 0.00000000e+00 0.00000000e+00]\n",
      " [1.39490261e-02 4.73018627e-04 4.54004683e-04 4.49439909e-01]\n",
      " [3.82223053e-03 6.86158380e-01 1.97224653e-02 2.94628896e-02]\n",
      " [1.42431954e-01 1.90209270e-03 8.36198354e-04 9.18541964e-04]\n",
      " [0.00000000e+00 0.00000000e+00 0.00000000e+00 0.00000000e+00]\n",
      " [0.00000000e+00 0.00000000e+00 0.00000000e+00 0.00000000e+00]\n",
      " [1.26032796e-01 2.43952764e-02 4.62519509e-01 2.19962462e-02]\n",
      " [3.00067118e-01 9.93134426e-01 2.97370080e-01 4.20822144e-01]\n",
      " [0.00000000e+00 0.00000000e+00 0.00000000e+00 0.00000000e+00]]\n"
     ]
    }
   ],
   "source": [
    "rewards_all_episodes=[]\n",
    "\n",
    "#Q-learning algorithm\n",
    "for episode in range(num_episodes):\n",
    "    state=env.reset()\n",
    "    done=False\n",
    "    rewards_current_episode=0\n",
    "    \n",
    "    for step in range(max_steps_per_episode):\n",
    "        \n",
    "        exploration_rate_threshold=random.uniform(0,1)\n",
    "        if exploration_rate_threshold > exploration_rate:\n",
    "            action=np.argmax(q_table[state,:])\n",
    "        else:\n",
    "            action=env.action_space.sample()\n",
    "        \n",
    "        new_state, reward, done, info = env.step(action)\n",
    "        \n",
    "        #update q-table\n",
    "        q_table[state, action]=q_table[state,action]*(1-learning_rate) + learning_rate*(reward+discount_rate*np.max(q_table[new_state,:]))\n",
    "        \n",
    "        state=new_state\n",
    "        rewards_current_episode += reward\n",
    "        \n",
    "        if done: break\n",
    "            \n",
    "    exploration_rate=min_exploration_rate +(max_exploration_rate-min_exploration_rate) * np.exp(-exploration_decay_rate*episode)\n",
    "    \n",
    "    rewards_all_episodes.append(rewards_current_episode)\n",
    "    \n",
    "\n",
    "#after all episodes\n",
    "rewards_per_thousand_episodes=np.split(np.array(rewards_all_episodes),num_episodes/1000)\n",
    "count=1000\n",
    "print('Avg reward per 1000 episodes')\n",
    "for r in rewards_per_thousand_episodes:\n",
    "    print(count,':', str(sum(r/1000)))\n",
    "    count+=1000\n",
    "\n",
    "print('q-table')\n",
    "print(q_table)\n",
    "    "
   ]
  },
  {
   "cell_type": "markdown",
   "id": "af1b69e6",
   "metadata": {},
   "source": [
    "Now to watch it play"
   ]
  },
  {
   "cell_type": "code",
   "execution_count": 12,
   "id": "e34c3c6c",
   "metadata": {},
   "outputs": [
    {
     "name": "stdout",
     "output_type": "stream",
     "text": [
      "  (Left)\n",
      "SFFF\n",
      "FHFH\n",
      "FFFH\n",
      "\u001b[41mH\u001b[0mFFG\n",
      "You fell through the hole.\n"
     ]
    }
   ],
   "source": [
    "for episode in range(2):\n",
    "    state=env.reset()\n",
    "    done=False\n",
    "    print('Episode', episode+1, \"***\\n\\n\\n\\n\")\n",
    "    time.sleep(1)\n",
    "    \n",
    "    for step in range(max_steps_per_episode):\n",
    "        clear_output(wait=True)\n",
    "        env.render()\n",
    "        time.sleep(0.3)\n",
    "        \n",
    "        action = np.argmax(q_table[state,:])\n",
    "        print(action)\n",
    "        new_state, reward, done, info = env.step(action)\n",
    "        \n",
    "        if done:\n",
    "            clear_output(wait=True)\n",
    "            env.render()\n",
    "            if reward==1:\n",
    "                print('You reached the goal! AWESOME!!!')\n",
    "                time.sleep(3)\n",
    "            else:\n",
    "                print('You fell through the hole.')\n",
    "                time.sleep(3)\n",
    "            clear_output(wait=True)\n",
    "            break\n",
    "        \n",
    "    state=new_state\n",
    "\n",
    "env.close()"
   ]
  },
  {
   "cell_type": "code",
   "execution_count": 7,
   "id": "15b671aa",
   "metadata": {},
   "outputs": [
    {
     "data": {
      "text/plain": [
       "array([[0.00000000e+00, 2.90650006e-01, 5.22125288e-01, 0.00000000e+00],\n",
       "       [6.70978393e-02, 8.12194220e-04, 1.93956823e-02, 5.89523441e-01],\n",
       "       [1.10974466e-01, 9.22953159e-02, 9.32758899e-02, 2.80063211e-01],\n",
       "       [2.93015834e-02, 7.01149305e-03, 3.08735615e-02, 2.20756039e-01],\n",
       "       [6.59379758e-01, 1.35504478e-01, 4.76926286e-01, 1.08108660e-01],\n",
       "       [0.00000000e+00, 0.00000000e+00, 0.00000000e+00, 0.00000000e+00],\n",
       "       [3.61362957e-02, 5.20324226e-09, 9.35781575e-04, 2.40236821e-06],\n",
       "       [0.00000000e+00, 0.00000000e+00, 0.00000000e+00, 0.00000000e+00],\n",
       "       [6.60891902e-03, 5.15468621e-01, 1.68087870e-02, 8.65609207e-01],\n",
       "       [1.23008304e-03, 9.28298138e-01, 1.24863635e-01, 1.38745333e-01],\n",
       "       [3.33435842e-01, 9.43860907e-04, 6.27862558e-05, 3.45342035e-03],\n",
       "       [0.00000000e+00, 0.00000000e+00, 0.00000000e+00, 0.00000000e+00],\n",
       "       [0.00000000e+00, 0.00000000e+00, 0.00000000e+00, 0.00000000e+00],\n",
       "       [5.97350868e-02, 3.85121083e-02, 8.75811346e-01, 2.21734501e-01],\n",
       "       [3.09440589e-01, 9.95551130e-01, 6.61345758e-01, 6.86108452e-01],\n",
       "       [0.00000000e+00, 0.00000000e+00, 0.00000000e+00, 0.00000000e+00]])"
      ]
     },
     "execution_count": 7,
     "metadata": {},
     "output_type": "execute_result"
    }
   ],
   "source": [
    "q_table[0,0]=0\n",
    "q_table[0,3]=0\n",
    "q_table"
   ]
  },
  {
   "cell_type": "code",
   "execution_count": null,
   "id": "ddd510fe",
   "metadata": {},
   "outputs": [],
   "source": []
  },
  {
   "cell_type": "code",
   "execution_count": 8,
   "id": "a435bcc0",
   "metadata": {},
   "outputs": [],
   "source": [
    "rewards_all_episodes = []\n",
    "\n",
    "# Q-learning algorithm\n",
    "for episode in range(num_episodes):\n",
    "    # initialize new episode params\n",
    "\n",
    "    for step in range(max_steps_per_episode): \n",
    "\n",
    "    # Exploration-exploitation trade-off\n",
    "        exploration_rate_threshold = random.uniform(0, 1)\n",
    "        if exploration_rate_threshold > exploration_rate:\n",
    "            action = np.argmax(q_table[state,:]) \n",
    "        else:\n",
    "            action = env.action_space.sample()\n"
   ]
  }
 ],
 "metadata": {
  "kernelspec": {
   "display_name": "Python 3",
   "language": "python",
   "name": "python3"
  },
  "language_info": {
   "codemirror_mode": {
    "name": "ipython",
    "version": 3
   },
   "file_extension": ".py",
   "mimetype": "text/x-python",
   "name": "python",
   "nbconvert_exporter": "python",
   "pygments_lexer": "ipython3",
   "version": "3.8.8"
  }
 },
 "nbformat": 4,
 "nbformat_minor": 5
}
